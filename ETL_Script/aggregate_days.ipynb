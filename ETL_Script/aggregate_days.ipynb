{
 "cells": [
  {
   "cell_type": "code",
   "execution_count": 63,
   "metadata": {},
   "outputs": [],
   "source": [
    "import os\n",
    "import pandas as pd "
   ]
  },
  {
   "cell_type": "code",
   "execution_count": 64,
   "metadata": {},
   "outputs": [],
   "source": [
    "seven_dwarf = r'C:/Users/Ryan/Documents/BootCamp/Final_Project/Disney_wait_times/Wait_Time_Data/7_dwarfs_train.csv'\n",
    "big_thunder = r'C:/Users/Ryan/Documents/BootCamp/Final_Project/Disney_wait_times/Wait_Time_Data/big_thunder_mtn.csv'\n",
    "haunted = r'C:/Users/Ryan/Documents/BootCamp/Final_Project/Disney_wait_times/Wait_Time_Data/haunted_mansion.csv'\n",
    "small_world = r'C:/Users/Ryan/Documents/BootCamp/Final_Project/Disney_wait_times/Wait_Time_Data/it_s_a_small_world.csv'\n",
    "peter_pan = r'C:/Users/Ryan/Documents/BootCamp/Final_Project/Disney_wait_times/Wait_Time_Data/peter_pan_s_flight.csv'\n",
    "pirates = r'C:/Users/Ryan/Documents/BootCamp/Final_Project/Disney_wait_times/Wait_Time_Data/pirates_of_caribbean.csv'\n",
    "space = r'C:/Users/Ryan/Documents/BootCamp/Final_Project/Disney_wait_times/Wait_Time_Data/space_mountain.csv'\n",
    "splash = r'C:/Users/Ryan/Documents/BootCamp/Final_Project/Disney_wait_times/Wait_Time_Data/splash_mountain.csv'"
   ]
  },
  {
   "cell_type": "code",
   "execution_count": 65,
   "metadata": {},
   "outputs": [],
   "source": [
    "splash_df = pd.read_csv(splash)"
   ]
  },
  {
   "cell_type": "code",
   "execution_count": 66,
   "metadata": {},
   "outputs": [],
   "source": [
    "splash_df = splash_df.groupby('date').mean()\n"
   ]
  },
  {
   "cell_type": "code",
   "execution_count": 67,
   "metadata": {},
   "outputs": [],
   "source": [
    "export_path = r'C:\\Users\\Ryan\\Documents\\BootCamp\\Final_Project\\Disney_wait_times\\Wait_Time_Day_Avg\\splash_mountain.csv'"
   ]
  },
  {
   "cell_type": "code",
   "execution_count": 68,
   "metadata": {},
   "outputs": [],
   "source": [
    "splash_df.to_csv(export_path, sep=',', index=True)"
   ]
  }
 ],
 "metadata": {
  "kernelspec": {
   "display_name": "Python 3.7.6 ('PythonData')",
   "language": "python",
   "name": "python3"
  },
  "language_info": {
   "codemirror_mode": {
    "name": "ipython",
    "version": 3
   },
   "file_extension": ".py",
   "mimetype": "text/x-python",
   "name": "python",
   "nbconvert_exporter": "python",
   "pygments_lexer": "ipython3",
   "version": "3.7.6"
  },
  "orig_nbformat": 4,
  "vscode": {
   "interpreter": {
    "hash": "50b6826f15b090a2bcbd10d278c385d51cc6fc3377b289ab907c5752c052b6ab"
   }
  }
 },
 "nbformat": 4,
 "nbformat_minor": 2
}
