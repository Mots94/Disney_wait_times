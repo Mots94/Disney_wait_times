{
 "cells": [
  {
   "cell_type": "code",
   "execution_count": 1,
   "metadata": {},
   "outputs": [],
   "source": [
    "import os\n",
    "import glob\n",
    "import pandas as pd\n",
    "import numpy as np\n",
    "import scipy.stats"
   ]
  },
  {
   "cell_type": "code",
   "execution_count": 2,
   "metadata": {},
   "outputs": [],
   "source": [
    "file_path = r'C:/Users/Ryan/Documents/BootCamp/Final_Project/Disney_wait_times/Wait_Time_Data/'"
   ]
  },
  {
   "cell_type": "code",
   "execution_count": 3,
   "metadata": {},
   "outputs": [],
   "source": [
    "# Find all CSV files containing data from file_path and add to a list\n",
    "\n",
    "all_files = glob.glob(os.path.join(file_path, '*.csv'))"
   ]
  },
  {
   "cell_type": "code",
   "execution_count": 4,
   "metadata": {},
   "outputs": [],
   "source": [
    "# Concatenate CSV files from list into a single dataframe\n",
    "\n",
    "wait_time_df = pd.concat((pd.read_csv(f) for f in all_files),)\n"
   ]
  },
  {
   "cell_type": "code",
   "execution_count": 5,
   "metadata": {},
   "outputs": [
    {
     "data": {
      "text/html": [
       "<div>\n",
       "<style scoped>\n",
       "    .dataframe tbody tr th:only-of-type {\n",
       "        vertical-align: middle;\n",
       "    }\n",
       "\n",
       "    .dataframe tbody tr th {\n",
       "        vertical-align: top;\n",
       "    }\n",
       "\n",
       "    .dataframe thead th {\n",
       "        text-align: right;\n",
       "    }\n",
       "</style>\n",
       "<table border=\"1\" class=\"dataframe\">\n",
       "  <thead>\n",
       "    <tr style=\"text-align: right;\">\n",
       "      <th></th>\n",
       "      <th>date</th>\n",
       "      <th>datetime</th>\n",
       "      <th>SACTMIN</th>\n",
       "      <th>SPOSTMIN</th>\n",
       "      <th>ride_name</th>\n",
       "    </tr>\n",
       "  </thead>\n",
       "  <tbody>\n",
       "    <tr>\n",
       "      <th>0</th>\n",
       "      <td>1/1/2015</td>\n",
       "      <td>1/1/2015 7:51</td>\n",
       "      <td>NaN</td>\n",
       "      <td>45.0</td>\n",
       "      <td>7_dwarfs_train</td>\n",
       "    </tr>\n",
       "    <tr>\n",
       "      <th>1</th>\n",
       "      <td>1/1/2015</td>\n",
       "      <td>1/1/2015 8:02</td>\n",
       "      <td>NaN</td>\n",
       "      <td>60.0</td>\n",
       "      <td>7_dwarfs_train</td>\n",
       "    </tr>\n",
       "    <tr>\n",
       "      <th>2</th>\n",
       "      <td>1/1/2015</td>\n",
       "      <td>1/1/2015 8:05</td>\n",
       "      <td>54.0</td>\n",
       "      <td>NaN</td>\n",
       "      <td>7_dwarfs_train</td>\n",
       "    </tr>\n",
       "    <tr>\n",
       "      <th>3</th>\n",
       "      <td>1/1/2015</td>\n",
       "      <td>1/1/2015 8:09</td>\n",
       "      <td>NaN</td>\n",
       "      <td>60.0</td>\n",
       "      <td>7_dwarfs_train</td>\n",
       "    </tr>\n",
       "    <tr>\n",
       "      <th>4</th>\n",
       "      <td>1/1/2015</td>\n",
       "      <td>1/1/2015 8:16</td>\n",
       "      <td>NaN</td>\n",
       "      <td>60.0</td>\n",
       "      <td>7_dwarfs_train</td>\n",
       "    </tr>\n",
       "  </tbody>\n",
       "</table>\n",
       "</div>"
      ],
      "text/plain": [
       "       date       datetime  SACTMIN  SPOSTMIN       ride_name\n",
       "0  1/1/2015  1/1/2015 7:51      NaN      45.0  7_dwarfs_train\n",
       "1  1/1/2015  1/1/2015 8:02      NaN      60.0  7_dwarfs_train\n",
       "2  1/1/2015  1/1/2015 8:05     54.0       NaN  7_dwarfs_train\n",
       "3  1/1/2015  1/1/2015 8:09      NaN      60.0  7_dwarfs_train\n",
       "4  1/1/2015  1/1/2015 8:16      NaN      60.0  7_dwarfs_train"
      ]
     },
     "execution_count": 5,
     "metadata": {},
     "output_type": "execute_result"
    }
   ],
   "source": [
    "wait_time_df.head()"
   ]
  },
  {
   "cell_type": "code",
   "execution_count": 6,
   "metadata": {},
   "outputs": [
    {
     "data": {
      "text/plain": [
       "date          object\n",
       "datetime      object\n",
       "SACTMIN      float64\n",
       "SPOSTMIN     float64\n",
       "ride_name     object\n",
       "dtype: object"
      ]
     },
     "execution_count": 6,
     "metadata": {},
     "output_type": "execute_result"
    }
   ],
   "source": [
    "wait_time_df.dtypes"
   ]
  },
  {
   "cell_type": "code",
   "execution_count": 7,
   "metadata": {},
   "outputs": [],
   "source": [
    "wait_time_df = wait_time_df.rename(columns={'SACTMIN': 'sactmin', 'SPOSTMIN': 'spostmin'})"
   ]
  },
  {
   "cell_type": "code",
   "execution_count": 8,
   "metadata": {},
   "outputs": [
    {
     "data": {
      "text/html": [
       "<div>\n",
       "<style scoped>\n",
       "    .dataframe tbody tr th:only-of-type {\n",
       "        vertical-align: middle;\n",
       "    }\n",
       "\n",
       "    .dataframe tbody tr th {\n",
       "        vertical-align: top;\n",
       "    }\n",
       "\n",
       "    .dataframe thead th {\n",
       "        text-align: right;\n",
       "    }\n",
       "</style>\n",
       "<table border=\"1\" class=\"dataframe\">\n",
       "  <thead>\n",
       "    <tr style=\"text-align: right;\">\n",
       "      <th></th>\n",
       "      <th>date</th>\n",
       "      <th>datetime</th>\n",
       "      <th>sactmin</th>\n",
       "      <th>spostmin</th>\n",
       "      <th>ride_name</th>\n",
       "    </tr>\n",
       "  </thead>\n",
       "  <tbody>\n",
       "    <tr>\n",
       "      <th>0</th>\n",
       "      <td>1/1/2015</td>\n",
       "      <td>1/1/2015 7:51</td>\n",
       "      <td>NaN</td>\n",
       "      <td>45.0</td>\n",
       "      <td>7_dwarfs_train</td>\n",
       "    </tr>\n",
       "    <tr>\n",
       "      <th>1</th>\n",
       "      <td>1/1/2015</td>\n",
       "      <td>1/1/2015 8:02</td>\n",
       "      <td>NaN</td>\n",
       "      <td>60.0</td>\n",
       "      <td>7_dwarfs_train</td>\n",
       "    </tr>\n",
       "    <tr>\n",
       "      <th>3</th>\n",
       "      <td>1/1/2015</td>\n",
       "      <td>1/1/2015 8:09</td>\n",
       "      <td>NaN</td>\n",
       "      <td>60.0</td>\n",
       "      <td>7_dwarfs_train</td>\n",
       "    </tr>\n",
       "    <tr>\n",
       "      <th>4</th>\n",
       "      <td>1/1/2015</td>\n",
       "      <td>1/1/2015 8:16</td>\n",
       "      <td>NaN</td>\n",
       "      <td>60.0</td>\n",
       "      <td>7_dwarfs_train</td>\n",
       "    </tr>\n",
       "    <tr>\n",
       "      <th>6</th>\n",
       "      <td>1/1/2015</td>\n",
       "      <td>1/1/2015 8:23</td>\n",
       "      <td>NaN</td>\n",
       "      <td>60.0</td>\n",
       "      <td>7_dwarfs_train</td>\n",
       "    </tr>\n",
       "  </tbody>\n",
       "</table>\n",
       "</div>"
      ],
      "text/plain": [
       "       date       datetime  sactmin  spostmin       ride_name\n",
       "0  1/1/2015  1/1/2015 7:51      NaN      45.0  7_dwarfs_train\n",
       "1  1/1/2015  1/1/2015 8:02      NaN      60.0  7_dwarfs_train\n",
       "3  1/1/2015  1/1/2015 8:09      NaN      60.0  7_dwarfs_train\n",
       "4  1/1/2015  1/1/2015 8:16      NaN      60.0  7_dwarfs_train\n",
       "6  1/1/2015  1/1/2015 8:23      NaN      60.0  7_dwarfs_train"
      ]
     },
     "execution_count": 8,
     "metadata": {},
     "output_type": "execute_result"
    }
   ],
   "source": [
    "wait_time_est = wait_time_df.dropna(subset=['spostmin'])\n",
    "wait_time_est.head()"
   ]
  },
  {
   "cell_type": "code",
   "execution_count": 9,
   "metadata": {},
   "outputs": [
    {
     "data": {
      "text/html": [
       "<div>\n",
       "<style scoped>\n",
       "    .dataframe tbody tr th:only-of-type {\n",
       "        vertical-align: middle;\n",
       "    }\n",
       "\n",
       "    .dataframe tbody tr th {\n",
       "        vertical-align: top;\n",
       "    }\n",
       "\n",
       "    .dataframe thead th {\n",
       "        text-align: right;\n",
       "    }\n",
       "</style>\n",
       "<table border=\"1\" class=\"dataframe\">\n",
       "  <thead>\n",
       "    <tr style=\"text-align: right;\">\n",
       "      <th></th>\n",
       "      <th>date</th>\n",
       "      <th>datetime</th>\n",
       "      <th>sactmin</th>\n",
       "      <th>spostmin</th>\n",
       "      <th>ride_name</th>\n",
       "    </tr>\n",
       "  </thead>\n",
       "  <tbody>\n",
       "    <tr>\n",
       "      <th>2</th>\n",
       "      <td>1/1/2015</td>\n",
       "      <td>1/1/2015 8:05</td>\n",
       "      <td>54.0</td>\n",
       "      <td>NaN</td>\n",
       "      <td>7_dwarfs_train</td>\n",
       "    </tr>\n",
       "    <tr>\n",
       "      <th>5</th>\n",
       "      <td>1/1/2015</td>\n",
       "      <td>1/1/2015 8:22</td>\n",
       "      <td>55.0</td>\n",
       "      <td>NaN</td>\n",
       "      <td>7_dwarfs_train</td>\n",
       "    </tr>\n",
       "    <tr>\n",
       "      <th>177</th>\n",
       "      <td>1/2/2015</td>\n",
       "      <td>1/2/2015 12:20</td>\n",
       "      <td>160.0</td>\n",
       "      <td>NaN</td>\n",
       "      <td>7_dwarfs_train</td>\n",
       "    </tr>\n",
       "    <tr>\n",
       "      <th>264</th>\n",
       "      <td>1/2/2015</td>\n",
       "      <td>1/2/2015 21:49</td>\n",
       "      <td>65.0</td>\n",
       "      <td>NaN</td>\n",
       "      <td>7_dwarfs_train</td>\n",
       "    </tr>\n",
       "    <tr>\n",
       "      <th>281</th>\n",
       "      <td>1/2/2015</td>\n",
       "      <td>1/3/2015 0:44</td>\n",
       "      <td>19.0</td>\n",
       "      <td>NaN</td>\n",
       "      <td>7_dwarfs_train</td>\n",
       "    </tr>\n",
       "  </tbody>\n",
       "</table>\n",
       "</div>"
      ],
      "text/plain": [
       "         date        datetime  sactmin  spostmin       ride_name\n",
       "2    1/1/2015   1/1/2015 8:05     54.0       NaN  7_dwarfs_train\n",
       "5    1/1/2015   1/1/2015 8:22     55.0       NaN  7_dwarfs_train\n",
       "177  1/2/2015  1/2/2015 12:20    160.0       NaN  7_dwarfs_train\n",
       "264  1/2/2015  1/2/2015 21:49     65.0       NaN  7_dwarfs_train\n",
       "281  1/2/2015   1/3/2015 0:44     19.0       NaN  7_dwarfs_train"
      ]
     },
     "execution_count": 9,
     "metadata": {},
     "output_type": "execute_result"
    }
   ],
   "source": [
    "wait_time_actuals = wait_time_df.dropna(subset=['sactmin'])\n",
    "wait_time_actuals.head()"
   ]
  },
  {
   "cell_type": "code",
   "execution_count": 10,
   "metadata": {},
   "outputs": [
    {
     "data": {
      "text/plain": [
       "date         2345606\n",
       "datetime     2345606\n",
       "sactmin            0\n",
       "spostmin     2345606\n",
       "ride_name    2345606\n",
       "dtype: int64"
      ]
     },
     "execution_count": 10,
     "metadata": {},
     "output_type": "execute_result"
    }
   ],
   "source": [
    "wait_time_est.count()"
   ]
  },
  {
   "cell_type": "code",
   "execution_count": 36,
   "metadata": {},
   "outputs": [
    {
     "data": {
      "text/plain": [
       "date         69879\n",
       "datetime     69879\n",
       "sactmin      69879\n",
       "ride_name    69879\n",
       "year         69879\n",
       "month        69879\n",
       "dtype: int64"
      ]
     },
     "execution_count": 36,
     "metadata": {},
     "output_type": "execute_result"
    }
   ],
   "source": [
    "wait_time_actuals.count()"
   ]
  },
  {
   "cell_type": "code",
   "execution_count": 11,
   "metadata": {},
   "outputs": [],
   "source": [
    "# Dropping columns in each dataframe that at this point contain all null values\n",
    "\n",
    "wait_time_est = wait_time_est.drop(columns='sactmin')\n",
    "wait_time_actuals = wait_time_actuals.drop(columns='spostmin')"
   ]
  },
  {
   "cell_type": "code",
   "execution_count": 13,
   "metadata": {},
   "outputs": [],
   "source": [
    "# Rows coded as -999 in estimated wait times dropped (ride not in service)\n",
    "\n",
    "wait_time_est = wait_time_est.drop(wait_time_est.loc[wait_time_est['spostmin'] == -999].index)"
   ]
  },
  {
   "cell_type": "code",
   "execution_count": 22,
   "metadata": {},
   "outputs": [],
   "source": [
    "# Dropping extreme values that appear to be data entry mistakes/unrealistic wait times\n",
    "\n",
    "wait_time_actuals = wait_time_actuals.drop(wait_time_actuals.loc[wait_time_actuals['sactmin'] == -92918].index)\n",
    "wait_time_actuals = wait_time_actuals.drop(wait_time_actuals.loc[wait_time_actuals['sactmin'] == 1511].index)\n",
    "wait_time_actuals = wait_time_actuals.drop(wait_time_actuals.loc[wait_time_actuals['sactmin'] == 952].index)\n"
   ]
  },
  {
   "cell_type": "code",
   "execution_count": 20,
   "metadata": {},
   "outputs": [
    {
     "data": {
      "text/plain": [
       "count    1.412810e+06\n",
       "mean     4.445371e+01\n",
       "std      3.047277e+01\n",
       "min      0.000000e+00\n",
       "25%      2.000000e+01\n",
       "50%      4.000000e+01\n",
       "75%      6.000000e+01\n",
       "max      3.300000e+02\n",
       "Name: spostmin, dtype: float64"
      ]
     },
     "execution_count": 20,
     "metadata": {},
     "output_type": "execute_result"
    }
   ],
   "source": [
    "wait_time_est['spostmin'].describe()"
   ]
  },
  {
   "cell_type": "code",
   "execution_count": 23,
   "metadata": {},
   "outputs": [
    {
     "data": {
      "text/plain": [
       "count    69879.000000\n",
       "mean        21.333290\n",
       "std         16.842076\n",
       "min          0.000000\n",
       "25%          9.000000\n",
       "50%         18.000000\n",
       "75%         29.000000\n",
       "max        217.000000\n",
       "Name: sactmin, dtype: float64"
      ]
     },
     "execution_count": 23,
     "metadata": {},
     "output_type": "execute_result"
    }
   ],
   "source": [
    "wait_time_actuals['sactmin'].describe()"
   ]
  },
  {
   "cell_type": "code",
   "execution_count": 24,
   "metadata": {},
   "outputs": [],
   "source": [
    "# Converting datetime column to datetime data type\n",
    "\n",
    "wait_time_actuals['datetime'] = pd.to_datetime(wait_time_actuals['datetime'])"
   ]
  },
  {
   "cell_type": "code",
   "execution_count": 25,
   "metadata": {},
   "outputs": [
    {
     "data": {
      "text/plain": [
       "date                 object\n",
       "datetime     datetime64[ns]\n",
       "sactmin             float64\n",
       "ride_name            object\n",
       "dtype: object"
      ]
     },
     "execution_count": 25,
     "metadata": {},
     "output_type": "execute_result"
    }
   ],
   "source": [
    "wait_time_actuals.dtypes"
   ]
  },
  {
   "cell_type": "code",
   "execution_count": 26,
   "metadata": {},
   "outputs": [],
   "source": [
    "# Splitting year and month off of datetime for further EDA\n",
    "\n",
    "wait_time_actuals['year'] = pd.DatetimeIndex(wait_time_actuals['datetime']).year\n",
    "wait_time_actuals['month'] = pd.DatetimeIndex(wait_time_actuals['datetime']).month"
   ]
  },
  {
   "cell_type": "code",
   "execution_count": 29,
   "metadata": {},
   "outputs": [
    {
     "data": {
      "text/html": [
       "<div>\n",
       "<style scoped>\n",
       "    .dataframe tbody tr th:only-of-type {\n",
       "        vertical-align: middle;\n",
       "    }\n",
       "\n",
       "    .dataframe tbody tr th {\n",
       "        vertical-align: top;\n",
       "    }\n",
       "\n",
       "    .dataframe thead th {\n",
       "        text-align: right;\n",
       "    }\n",
       "</style>\n",
       "<table border=\"1\" class=\"dataframe\">\n",
       "  <thead>\n",
       "    <tr style=\"text-align: right;\">\n",
       "      <th></th>\n",
       "      <th>date</th>\n",
       "      <th>datetime</th>\n",
       "      <th>sactmin</th>\n",
       "      <th>ride_name</th>\n",
       "      <th>year</th>\n",
       "      <th>month</th>\n",
       "    </tr>\n",
       "  </thead>\n",
       "  <tbody>\n",
       "    <tr>\n",
       "      <th>2</th>\n",
       "      <td>1/1/2015</td>\n",
       "      <td>2015-01-01 08:05:00</td>\n",
       "      <td>54.0</td>\n",
       "      <td>7_dwarfs_train</td>\n",
       "      <td>2015</td>\n",
       "      <td>1</td>\n",
       "    </tr>\n",
       "    <tr>\n",
       "      <th>5</th>\n",
       "      <td>1/1/2015</td>\n",
       "      <td>2015-01-01 08:22:00</td>\n",
       "      <td>55.0</td>\n",
       "      <td>7_dwarfs_train</td>\n",
       "      <td>2015</td>\n",
       "      <td>1</td>\n",
       "    </tr>\n",
       "    <tr>\n",
       "      <th>177</th>\n",
       "      <td>1/2/2015</td>\n",
       "      <td>2015-01-02 12:20:00</td>\n",
       "      <td>160.0</td>\n",
       "      <td>7_dwarfs_train</td>\n",
       "      <td>2015</td>\n",
       "      <td>1</td>\n",
       "    </tr>\n",
       "    <tr>\n",
       "      <th>264</th>\n",
       "      <td>1/2/2015</td>\n",
       "      <td>2015-01-02 21:49:00</td>\n",
       "      <td>65.0</td>\n",
       "      <td>7_dwarfs_train</td>\n",
       "      <td>2015</td>\n",
       "      <td>1</td>\n",
       "    </tr>\n",
       "    <tr>\n",
       "      <th>281</th>\n",
       "      <td>1/2/2015</td>\n",
       "      <td>2015-01-03 00:44:00</td>\n",
       "      <td>19.0</td>\n",
       "      <td>7_dwarfs_train</td>\n",
       "      <td>2015</td>\n",
       "      <td>1</td>\n",
       "    </tr>\n",
       "  </tbody>\n",
       "</table>\n",
       "</div>"
      ],
      "text/plain": [
       "         date            datetime  sactmin       ride_name  year  month\n",
       "2    1/1/2015 2015-01-01 08:05:00     54.0  7_dwarfs_train  2015      1\n",
       "5    1/1/2015 2015-01-01 08:22:00     55.0  7_dwarfs_train  2015      1\n",
       "177  1/2/2015 2015-01-02 12:20:00    160.0  7_dwarfs_train  2015      1\n",
       "264  1/2/2015 2015-01-02 21:49:00     65.0  7_dwarfs_train  2015      1\n",
       "281  1/2/2015 2015-01-03 00:44:00     19.0  7_dwarfs_train  2015      1"
      ]
     },
     "execution_count": 29,
     "metadata": {},
     "output_type": "execute_result"
    }
   ],
   "source": [
    "wait_time_actuals.head()"
   ]
  },
  {
   "cell_type": "code",
   "execution_count": 31,
   "metadata": {},
   "outputs": [
    {
     "data": {
      "text/plain": [
       "(69879, 6)"
      ]
     },
     "execution_count": 31,
     "metadata": {},
     "output_type": "execute_result"
    }
   ],
   "source": [
    "wait_time_actuals.shape"
   ]
  },
  {
   "cell_type": "code",
   "execution_count": 32,
   "metadata": {},
   "outputs": [
    {
     "data": {
      "text/html": [
       "<div>\n",
       "<style scoped>\n",
       "    .dataframe tbody tr th:only-of-type {\n",
       "        vertical-align: middle;\n",
       "    }\n",
       "\n",
       "    .dataframe tbody tr th {\n",
       "        vertical-align: top;\n",
       "    }\n",
       "\n",
       "    .dataframe thead th {\n",
       "        text-align: right;\n",
       "    }\n",
       "</style>\n",
       "<table border=\"1\" class=\"dataframe\">\n",
       "  <thead>\n",
       "    <tr style=\"text-align: right;\">\n",
       "      <th></th>\n",
       "      <th>count</th>\n",
       "      <th>mean</th>\n",
       "      <th>std</th>\n",
       "      <th>min</th>\n",
       "      <th>25%</th>\n",
       "      <th>50%</th>\n",
       "      <th>75%</th>\n",
       "      <th>max</th>\n",
       "    </tr>\n",
       "    <tr>\n",
       "      <th>year</th>\n",
       "      <th></th>\n",
       "      <th></th>\n",
       "      <th></th>\n",
       "      <th></th>\n",
       "      <th></th>\n",
       "      <th></th>\n",
       "      <th></th>\n",
       "      <th></th>\n",
       "    </tr>\n",
       "  </thead>\n",
       "  <tbody>\n",
       "    <tr>\n",
       "      <th>2015</th>\n",
       "      <td>9517.0</td>\n",
       "      <td>18.861301</td>\n",
       "      <td>15.834835</td>\n",
       "      <td>0.0</td>\n",
       "      <td>8.0</td>\n",
       "      <td>15.0</td>\n",
       "      <td>25.0</td>\n",
       "      <td>160.0</td>\n",
       "    </tr>\n",
       "    <tr>\n",
       "      <th>2016</th>\n",
       "      <td>8164.0</td>\n",
       "      <td>19.095664</td>\n",
       "      <td>16.166044</td>\n",
       "      <td>0.0</td>\n",
       "      <td>8.0</td>\n",
       "      <td>16.0</td>\n",
       "      <td>26.0</td>\n",
       "      <td>192.0</td>\n",
       "    </tr>\n",
       "    <tr>\n",
       "      <th>2017</th>\n",
       "      <td>7428.0</td>\n",
       "      <td>20.982633</td>\n",
       "      <td>17.842144</td>\n",
       "      <td>0.0</td>\n",
       "      <td>9.0</td>\n",
       "      <td>17.0</td>\n",
       "      <td>28.0</td>\n",
       "      <td>160.0</td>\n",
       "    </tr>\n",
       "    <tr>\n",
       "      <th>2018</th>\n",
       "      <td>7872.0</td>\n",
       "      <td>22.072790</td>\n",
       "      <td>17.963936</td>\n",
       "      <td>0.0</td>\n",
       "      <td>10.0</td>\n",
       "      <td>18.0</td>\n",
       "      <td>29.0</td>\n",
       "      <td>188.0</td>\n",
       "    </tr>\n",
       "    <tr>\n",
       "      <th>2019</th>\n",
       "      <td>7527.0</td>\n",
       "      <td>22.885213</td>\n",
       "      <td>19.071661</td>\n",
       "      <td>0.0</td>\n",
       "      <td>10.0</td>\n",
       "      <td>19.0</td>\n",
       "      <td>30.0</td>\n",
       "      <td>217.0</td>\n",
       "    </tr>\n",
       "    <tr>\n",
       "      <th>2020</th>\n",
       "      <td>4684.0</td>\n",
       "      <td>24.743809</td>\n",
       "      <td>18.281827</td>\n",
       "      <td>0.0</td>\n",
       "      <td>12.0</td>\n",
       "      <td>21.0</td>\n",
       "      <td>32.0</td>\n",
       "      <td>193.0</td>\n",
       "    </tr>\n",
       "    <tr>\n",
       "      <th>2021</th>\n",
       "      <td>24687.0</td>\n",
       "      <td>21.775671</td>\n",
       "      <td>15.477076</td>\n",
       "      <td>0.0</td>\n",
       "      <td>10.0</td>\n",
       "      <td>19.0</td>\n",
       "      <td>30.0</td>\n",
       "      <td>141.0</td>\n",
       "    </tr>\n",
       "  </tbody>\n",
       "</table>\n",
       "</div>"
      ],
      "text/plain": [
       "        count       mean        std  min   25%   50%   75%    max\n",
       "year                                                             \n",
       "2015   9517.0  18.861301  15.834835  0.0   8.0  15.0  25.0  160.0\n",
       "2016   8164.0  19.095664  16.166044  0.0   8.0  16.0  26.0  192.0\n",
       "2017   7428.0  20.982633  17.842144  0.0   9.0  17.0  28.0  160.0\n",
       "2018   7872.0  22.072790  17.963936  0.0  10.0  18.0  29.0  188.0\n",
       "2019   7527.0  22.885213  19.071661  0.0  10.0  19.0  30.0  217.0\n",
       "2020   4684.0  24.743809  18.281827  0.0  12.0  21.0  32.0  193.0\n",
       "2021  24687.0  21.775671  15.477076  0.0  10.0  19.0  30.0  141.0"
      ]
     },
     "execution_count": 32,
     "metadata": {},
     "output_type": "execute_result"
    }
   ],
   "source": [
    "wait_time_actuals.groupby('year')['sactmin'].describe()"
   ]
  },
  {
   "cell_type": "code",
   "execution_count": 34,
   "metadata": {},
   "outputs": [
    {
     "data": {
      "text/html": [
       "<div>\n",
       "<style scoped>\n",
       "    .dataframe tbody tr th:only-of-type {\n",
       "        vertical-align: middle;\n",
       "    }\n",
       "\n",
       "    .dataframe tbody tr th {\n",
       "        vertical-align: top;\n",
       "    }\n",
       "\n",
       "    .dataframe thead th {\n",
       "        text-align: right;\n",
       "    }\n",
       "</style>\n",
       "<table border=\"1\" class=\"dataframe\">\n",
       "  <thead>\n",
       "    <tr style=\"text-align: right;\">\n",
       "      <th></th>\n",
       "      <th>count</th>\n",
       "      <th>mean</th>\n",
       "      <th>std</th>\n",
       "      <th>min</th>\n",
       "      <th>25%</th>\n",
       "      <th>50%</th>\n",
       "      <th>75%</th>\n",
       "      <th>max</th>\n",
       "    </tr>\n",
       "    <tr>\n",
       "      <th>ride_name</th>\n",
       "      <th></th>\n",
       "      <th></th>\n",
       "      <th></th>\n",
       "      <th></th>\n",
       "      <th></th>\n",
       "      <th></th>\n",
       "      <th></th>\n",
       "      <th></th>\n",
       "    </tr>\n",
       "  </thead>\n",
       "  <tbody>\n",
       "    <tr>\n",
       "      <th>7_dwarfs_train</th>\n",
       "      <td>7634.0</td>\n",
       "      <td>36.166623</td>\n",
       "      <td>22.950125</td>\n",
       "      <td>0.0</td>\n",
       "      <td>21.0</td>\n",
       "      <td>31.0</td>\n",
       "      <td>46.0</td>\n",
       "      <td>217.0</td>\n",
       "    </tr>\n",
       "    <tr>\n",
       "      <th>big_thunder_mtn</th>\n",
       "      <td>11729.0</td>\n",
       "      <td>18.251513</td>\n",
       "      <td>12.913191</td>\n",
       "      <td>0.0</td>\n",
       "      <td>9.0</td>\n",
       "      <td>16.0</td>\n",
       "      <td>25.0</td>\n",
       "      <td>125.0</td>\n",
       "    </tr>\n",
       "    <tr>\n",
       "      <th>haunted_mansion</th>\n",
       "      <td>10886.0</td>\n",
       "      <td>16.264193</td>\n",
       "      <td>12.531420</td>\n",
       "      <td>0.0</td>\n",
       "      <td>7.0</td>\n",
       "      <td>13.0</td>\n",
       "      <td>22.0</td>\n",
       "      <td>108.0</td>\n",
       "    </tr>\n",
       "    <tr>\n",
       "      <th>it_s_a_small_world</th>\n",
       "      <td>7105.0</td>\n",
       "      <td>13.604785</td>\n",
       "      <td>10.813506</td>\n",
       "      <td>0.0</td>\n",
       "      <td>5.0</td>\n",
       "      <td>12.0</td>\n",
       "      <td>19.0</td>\n",
       "      <td>90.0</td>\n",
       "    </tr>\n",
       "    <tr>\n",
       "      <th>peter_pan_s_flight</th>\n",
       "      <td>5356.0</td>\n",
       "      <td>24.087005</td>\n",
       "      <td>15.670876</td>\n",
       "      <td>0.0</td>\n",
       "      <td>14.0</td>\n",
       "      <td>21.0</td>\n",
       "      <td>31.0</td>\n",
       "      <td>192.0</td>\n",
       "    </tr>\n",
       "    <tr>\n",
       "      <th>pirates_of_caribbean</th>\n",
       "      <td>11589.0</td>\n",
       "      <td>18.167141</td>\n",
       "      <td>13.013274</td>\n",
       "      <td>0.0</td>\n",
       "      <td>8.0</td>\n",
       "      <td>16.0</td>\n",
       "      <td>26.0</td>\n",
       "      <td>101.0</td>\n",
       "    </tr>\n",
       "    <tr>\n",
       "      <th>space_mountain</th>\n",
       "      <td>8705.0</td>\n",
       "      <td>24.409075</td>\n",
       "      <td>17.811830</td>\n",
       "      <td>0.0</td>\n",
       "      <td>12.0</td>\n",
       "      <td>21.0</td>\n",
       "      <td>33.0</td>\n",
       "      <td>193.0</td>\n",
       "    </tr>\n",
       "    <tr>\n",
       "      <th>splash_mountain</th>\n",
       "      <td>6875.0</td>\n",
       "      <td>25.430836</td>\n",
       "      <td>18.749842</td>\n",
       "      <td>0.0</td>\n",
       "      <td>11.0</td>\n",
       "      <td>22.0</td>\n",
       "      <td>36.0</td>\n",
       "      <td>156.0</td>\n",
       "    </tr>\n",
       "  </tbody>\n",
       "</table>\n",
       "</div>"
      ],
      "text/plain": [
       "                        count       mean        std  min   25%   50%   75%  \\\n",
       "ride_name                                                                    \n",
       "7_dwarfs_train         7634.0  36.166623  22.950125  0.0  21.0  31.0  46.0   \n",
       "big_thunder_mtn       11729.0  18.251513  12.913191  0.0   9.0  16.0  25.0   \n",
       "haunted_mansion       10886.0  16.264193  12.531420  0.0   7.0  13.0  22.0   \n",
       "it_s_a_small_world     7105.0  13.604785  10.813506  0.0   5.0  12.0  19.0   \n",
       "peter_pan_s_flight     5356.0  24.087005  15.670876  0.0  14.0  21.0  31.0   \n",
       "pirates_of_caribbean  11589.0  18.167141  13.013274  0.0   8.0  16.0  26.0   \n",
       "space_mountain         8705.0  24.409075  17.811830  0.0  12.0  21.0  33.0   \n",
       "splash_mountain        6875.0  25.430836  18.749842  0.0  11.0  22.0  36.0   \n",
       "\n",
       "                        max  \n",
       "ride_name                    \n",
       "7_dwarfs_train        217.0  \n",
       "big_thunder_mtn       125.0  \n",
       "haunted_mansion       108.0  \n",
       "it_s_a_small_world     90.0  \n",
       "peter_pan_s_flight    192.0  \n",
       "pirates_of_caribbean  101.0  \n",
       "space_mountain        193.0  \n",
       "splash_mountain       156.0  "
      ]
     },
     "execution_count": 34,
     "metadata": {},
     "output_type": "execute_result"
    }
   ],
   "source": [
    "wait_time_actuals.groupby('ride_name')['sactmin'].describe()"
   ]
  },
  {
   "cell_type": "code",
   "execution_count": 35,
   "metadata": {},
   "outputs": [
    {
     "data": {
      "text/plain": [
       "big_thunder_mtn         11729\n",
       "pirates_of_caribbean    11589\n",
       "haunted_mansion         10886\n",
       "space_mountain           8705\n",
       "7_dwarfs_train           7634\n",
       "it_s_a_small_world       7105\n",
       "splash_mountain          6875\n",
       "peter_pan_s_flight       5356\n",
       "Name: ride_name, dtype: int64"
      ]
     },
     "execution_count": 35,
     "metadata": {},
     "output_type": "execute_result"
    }
   ],
   "source": [
    "wait_time_actuals['ride_name'].value_counts()"
   ]
  },
  {
   "cell_type": "code",
   "execution_count": null,
   "metadata": {},
   "outputs": [],
   "source": [
    "wait_time_est.plot.hist()"
   ]
  },
  {
   "cell_type": "code",
   "execution_count": null,
   "metadata": {},
   "outputs": [
    {
     "data": {
      "text/html": [
       "<div>\n",
       "<style scoped>\n",
       "    .dataframe tbody tr th:only-of-type {\n",
       "        vertical-align: middle;\n",
       "    }\n",
       "\n",
       "    .dataframe tbody tr th {\n",
       "        vertical-align: top;\n",
       "    }\n",
       "\n",
       "    .dataframe thead th {\n",
       "        text-align: right;\n",
       "    }\n",
       "</style>\n",
       "<table border=\"1\" class=\"dataframe\">\n",
       "  <thead>\n",
       "    <tr style=\"text-align: right;\">\n",
       "      <th></th>\n",
       "      <th>stat</th>\n",
       "      <th>p</th>\n",
       "      <th>normal</th>\n",
       "    </tr>\n",
       "    <tr>\n",
       "      <th>year</th>\n",
       "      <th></th>\n",
       "      <th></th>\n",
       "      <th></th>\n",
       "    </tr>\n",
       "  </thead>\n",
       "  <tbody>\n",
       "    <tr>\n",
       "      <th>2015</th>\n",
       "      <td>0.941182</td>\n",
       "      <td>0.0</td>\n",
       "      <td>not normal</td>\n",
       "    </tr>\n",
       "    <tr>\n",
       "      <th>2016</th>\n",
       "      <td>0.924665</td>\n",
       "      <td>0.0</td>\n",
       "      <td>not normal</td>\n",
       "    </tr>\n",
       "    <tr>\n",
       "      <th>2017</th>\n",
       "      <td>0.907743</td>\n",
       "      <td>0.0</td>\n",
       "      <td>not normal</td>\n",
       "    </tr>\n",
       "    <tr>\n",
       "      <th>2018</th>\n",
       "      <td>0.908632</td>\n",
       "      <td>0.0</td>\n",
       "      <td>not normal</td>\n",
       "    </tr>\n",
       "    <tr>\n",
       "      <th>2019</th>\n",
       "      <td>0.924621</td>\n",
       "      <td>0.0</td>\n",
       "      <td>not normal</td>\n",
       "    </tr>\n",
       "    <tr>\n",
       "      <th>2020</th>\n",
       "      <td>0.931159</td>\n",
       "      <td>0.0</td>\n",
       "      <td>not normal</td>\n",
       "    </tr>\n",
       "    <tr>\n",
       "      <th>2021</th>\n",
       "      <td>0.967902</td>\n",
       "      <td>0.0</td>\n",
       "      <td>not normal</td>\n",
       "    </tr>\n",
       "  </tbody>\n",
       "</table>\n",
       "</div>"
      ],
      "text/plain": [
       "          stat    p      normal\n",
       "year                           \n",
       "2015  0.941182  0.0  not normal\n",
       "2016  0.924665  0.0  not normal\n",
       "2017  0.907743  0.0  not normal\n",
       "2018  0.908632  0.0  not normal\n",
       "2019  0.924621  0.0  not normal\n",
       "2020  0.931159  0.0  not normal\n",
       "2021  0.967902  0.0  not normal"
      ]
     },
     "execution_count": 56,
     "metadata": {},
     "output_type": "execute_result"
    }
   ],
   "source": [
    "normal_test = scipy.stats.shapiro\n",
    "norm_test_est = wait_time_est.groupby('year')['spostmin'].apply(normal_test)\n",
    "norm_test_est2 = norm_test_est.apply(pd.Series, index=['stat', 'p'])\n",
    "norm_test_est2['normal'] = np.where(norm_test_est2['p']<0.05, 'not normal', 'normal')\n",
    "\n",
    "norm_test_est2\n"
   ]
  },
  {
   "cell_type": "code",
   "execution_count": null,
   "metadata": {},
   "outputs": [
    {
     "data": {
      "text/html": [
       "<div>\n",
       "<style scoped>\n",
       "    .dataframe tbody tr th:only-of-type {\n",
       "        vertical-align: middle;\n",
       "    }\n",
       "\n",
       "    .dataframe tbody tr th {\n",
       "        vertical-align: top;\n",
       "    }\n",
       "\n",
       "    .dataframe thead th {\n",
       "        text-align: right;\n",
       "    }\n",
       "</style>\n",
       "<table border=\"1\" class=\"dataframe\">\n",
       "  <thead>\n",
       "    <tr style=\"text-align: right;\">\n",
       "      <th></th>\n",
       "      <th>date</th>\n",
       "      <th>datetime</th>\n",
       "      <th>spostmin</th>\n",
       "      <th>ride_name</th>\n",
       "      <th>month</th>\n",
       "    </tr>\n",
       "    <tr>\n",
       "      <th>year</th>\n",
       "      <th></th>\n",
       "      <th></th>\n",
       "      <th></th>\n",
       "      <th></th>\n",
       "      <th></th>\n",
       "    </tr>\n",
       "  </thead>\n",
       "  <tbody>\n",
       "    <tr>\n",
       "      <th>2015</th>\n",
       "      <td>272639</td>\n",
       "      <td>272639</td>\n",
       "      <td>272639</td>\n",
       "      <td>272639</td>\n",
       "      <td>272639</td>\n",
       "    </tr>\n",
       "    <tr>\n",
       "      <th>2016</th>\n",
       "      <td>219837</td>\n",
       "      <td>219837</td>\n",
       "      <td>219837</td>\n",
       "      <td>219837</td>\n",
       "      <td>219837</td>\n",
       "    </tr>\n",
       "    <tr>\n",
       "      <th>2017</th>\n",
       "      <td>204360</td>\n",
       "      <td>204360</td>\n",
       "      <td>204360</td>\n",
       "      <td>204360</td>\n",
       "      <td>204360</td>\n",
       "    </tr>\n",
       "    <tr>\n",
       "      <th>2018</th>\n",
       "      <td>179543</td>\n",
       "      <td>179543</td>\n",
       "      <td>179543</td>\n",
       "      <td>179543</td>\n",
       "      <td>179543</td>\n",
       "    </tr>\n",
       "    <tr>\n",
       "      <th>2019</th>\n",
       "      <td>186380</td>\n",
       "      <td>186380</td>\n",
       "      <td>186380</td>\n",
       "      <td>186380</td>\n",
       "      <td>186380</td>\n",
       "    </tr>\n",
       "    <tr>\n",
       "      <th>2020</th>\n",
       "      <td>76674</td>\n",
       "      <td>76674</td>\n",
       "      <td>76674</td>\n",
       "      <td>76674</td>\n",
       "      <td>76674</td>\n",
       "    </tr>\n",
       "    <tr>\n",
       "      <th>2021</th>\n",
       "      <td>273377</td>\n",
       "      <td>273377</td>\n",
       "      <td>273377</td>\n",
       "      <td>273377</td>\n",
       "      <td>273377</td>\n",
       "    </tr>\n",
       "  </tbody>\n",
       "</table>\n",
       "</div>"
      ],
      "text/plain": [
       "        date  datetime  spostmin  ride_name   month\n",
       "year                                               \n",
       "2015  272639    272639    272639     272639  272639\n",
       "2016  219837    219837    219837     219837  219837\n",
       "2017  204360    204360    204360     204360  204360\n",
       "2018  179543    179543    179543     179543  179543\n",
       "2019  186380    186380    186380     186380  186380\n",
       "2020   76674     76674     76674      76674   76674\n",
       "2021  273377    273377    273377     273377  273377"
      ]
     },
     "execution_count": 46,
     "metadata": {},
     "output_type": "execute_result"
    }
   ],
   "source": [
    "norm_test_est.count"
   ]
  },
  {
   "cell_type": "code",
   "execution_count": null,
   "metadata": {},
   "outputs": [],
   "source": []
  },
  {
   "cell_type": "code",
   "execution_count": null,
   "metadata": {},
   "outputs": [],
   "source": []
  },
  {
   "cell_type": "code",
   "execution_count": null,
   "metadata": {},
   "outputs": [],
   "source": []
  }
 ],
 "metadata": {
  "kernelspec": {
   "display_name": "PythonData",
   "language": "python",
   "name": "pythondata"
  },
  "language_info": {
   "codemirror_mode": {
    "name": "ipython",
    "version": 3
   },
   "file_extension": ".py",
   "mimetype": "text/x-python",
   "name": "python",
   "nbconvert_exporter": "python",
   "pygments_lexer": "ipython3",
   "version": "3.7.6"
  },
  "orig_nbformat": 4
 },
 "nbformat": 4,
 "nbformat_minor": 2
}
